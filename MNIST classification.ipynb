{
 "cells": [
  {
   "cell_type": "markdown",
   "metadata": {},
   "source": [
    "# import necessary files for training "
   ]
  },
  {
   "cell_type": "code",
   "execution_count": 28,
   "metadata": {},
   "outputs": [],
   "source": [
    "from keras.datasets import mnist\n",
    "from keras import models,layers,callbacks\n",
    "import numpy as np\n",
    "import matplotlib.pyplot as plt\n",
    "from random import randint\n",
    "from time import sleep,time"
   ]
  },
  {
   "cell_type": "markdown",
   "metadata": {},
   "source": [
    "# read and pretrain data"
   ]
  },
  {
   "cell_type": "code",
   "execution_count": 29,
   "metadata": {},
   "outputs": [],
   "source": [
    "(traindata,trainlabel),(testdata,testlabel) = mnist.load_data()"
   ]
  },
  {
   "cell_type": "markdown",
   "metadata": {},
   "source": [
    "# show some of train data"
   ]
  },
  {
   "cell_type": "code",
   "execution_count": 3,
   "metadata": {},
   "outputs": [
    {
     "data": {
      "text/plain": [
       "<matplotlib.image.AxesImage at 0x7f1c8803b5f8>"
      ]
     },
     "execution_count": 3,
     "metadata": {},
     "output_type": "execute_result"
    },
    {
     "data": {
      "image/png": "[encoded data removed]",
      "text/plain": [
       "<Figure size 432x288 with 9 Axes>"
      ]
     },
     "metadata": {
      "needs_background": "light"
     },
     "output_type": "display_data"
    }
   ],
   "source": [
    "plt.subplot(3,3,1)\n",
    "plt.imshow(traindata[randint(0,len(traindata))],cmap='binary')\n",
    "plt.subplot(3,3,2)\n",
    "plt.imshow(traindata[randint(0,len(traindata))],cmap='binary')\n",
    "plt.subplot(3,3,3)\n",
    "plt.imshow(traindata[randint(0,len(traindata))],cmap='binary')\n",
    "plt.subplot(3,3,4)\n",
    "plt.imshow(traindata[randint(0,len(traindata))],cmap='binary')\n",
    "plt.subplot(3,3,5)\n",
    "plt.imshow(traindata[randint(0,len(traindata))],cmap='binary')\n",
    "plt.subplot(3,3,6)\n",
    "plt.imshow(traindata[randint(0,len(traindata))],cmap='binary')\n",
    "plt.subplot(3,3,7)\n",
    "plt.imshow(traindata[randint(0,len(traindata))],cmap='binary')\n",
    "plt.subplot(3,3,8)\n",
    "plt.imshow(traindata[randint(0,len(traindata))],cmap='binary')\n",
    "plt.subplot(3,3,9)\n",
    "plt.imshow(traindata[randint(0,len(traindata))],cmap='binary')"
   ]
  },
  {
   "cell_type": "markdown",
   "metadata": {},
   "source": [
    "# Change labels onehot"
   ]
  },
  {
   "cell_type": "code",
   "execution_count": 4,
   "metadata": {},
   "outputs": [],
   "source": [
    "def to_one_hot(labels,dimention = 10):\n",
    "    resalts = np.zeros((len(labels),dimention))\n",
    "    for i , labels in enumerate(labels):\n",
    "        resalts[i,labels] = 1.\n",
    "    return resalts"
   ]
  },
  {
   "cell_type": "code",
   "execution_count": 5,
   "metadata": {},
   "outputs": [],
   "source": [
    "train_y = to_one_hot(trainlabel)"
   ]
  },
  {
   "cell_type": "code",
   "execution_count": 6,
   "metadata": {},
   "outputs": [],
   "source": [
    "test_y = to_one_hot(testlabel)"
   ]
  },
  {
   "cell_type": "markdown",
   "metadata": {},
   "source": [
    "# reshape input data for train"
   ]
  },
  {
   "cell_type": "code",
   "execution_count": 7,
   "metadata": {},
   "outputs": [],
   "source": [
    "traindata = traindata.reshape(traindata.shape[0], 28, 28, 1)\n",
    "testdata = testdata.reshape(testdata.shape[0], 28, 28, 1)"
   ]
  },
  {
   "cell_type": "code",
   "execution_count": 8,
   "metadata": {},
   "outputs": [],
   "source": [
    "train_x = traindata.astype('float32')\n",
    "test_x = testdata.astype('float32')\n",
    "train_x /= 255\n",
    "test_x /= 255"
   ]
  },
  {
   "cell_type": "markdown",
   "metadata": {},
   "source": [
    "# Separate train and validation"
   ]
  },
  {
   "cell_type": "code",
   "execution_count": 10,
   "metadata": {},
   "outputs": [],
   "source": [
    "pre_train_x = train_x[1000:]\n",
    "pre_train_y = train_y[1000:]\n",
    "val_x =train_x[:1000]\n",
    "val_y = train_y[:1000]"
   ]
  },
  {
   "cell_type": "markdown",
   "metadata": {},
   "source": [
    "# create model for train "
   ]
  },
  {
   "cell_type": "code",
   "execution_count": 14,
   "metadata": {},
   "outputs": [],
   "source": [
    "model = models.Sequential()\n",
    "model.add(layers.Conv2D(32, kernel_size=(3, 3),\n",
    "                 activation='relu',\n",
    "                 input_shape=(28,28,1)))\n",
    "model.add(layers.Conv2D(64, (3, 3), activation='relu'))\n",
    "model.add(layers.MaxPooling2D(pool_size=(2, 2)))\n",
    "model.add(layers.Dropout(0.25))\n",
    "model.add(layers.Flatten())\n",
    "model.add(layers.Dense(128, activation='relu'))\n",
    "model.add(layers.Dropout(0.5))\n",
    "model.add(layers.Dense(10, activation='softmax'))"
   ]
  },
  {
   "cell_type": "markdown",
   "metadata": {},
   "source": [
    "# compile model with Specific optimizer and lost function"
   ]
  },
  {
   "cell_type": "code",
   "execution_count": 15,
   "metadata": {},
   "outputs": [],
   "source": [
    "model.compile(optimizer='rmsprop',loss='categorical_crossentropy',metrics=['acc'])"
   ]
  },
  {
   "cell_type": "markdown",
   "metadata": {},
   "source": [
    "# fit model for train with timer"
   ]
  },
  {
   "cell_type": "code",
   "execution_count": 34,
   "metadata": {},
   "outputs": [
    {
     "name": "stdout",
     "output_type": "stream",
     "text": [
      "Train on 59000 samples, validate on 1000 samples\n",
      "Epoch 1/5\n",
      "59000/59000 [==============================] - 200s 3ms/step - loss: 0.0565 - acc: 0.9835 - val_loss: 0.0510 - val_acc: 0.9870\n",
      "Epoch 2/5\n",
      "59000/59000 [==============================] - 257s 4ms/step - loss: 0.0542 - acc: 0.9843 - val_loss: 0.0451 - val_acc: 0.9910\n",
      "Epoch 3/5\n",
      "59000/59000 [==============================] - 283s 5ms/step - loss: 0.0554 - acc: 0.9845 - val_loss: 0.0548 - val_acc: 0.9890\n",
      "Epoch 4/5\n",
      "59000/59000 [==============================] - 257s 4ms/step - loss: 0.0583 - acc: 0.9832 - val_loss: 0.0620 - val_acc: 0.9840\n",
      "Epoch 5/5\n",
      "59000/59000 [==============================] - 259s 4ms/step - loss: 0.0582 - acc: 0.9837 - val_loss: 0.0543 - val_acc: 0.9900\n",
      "Training took 1305.572749376297 seconds\n"
     ]
    }
   ],
   "source": [
    "start_time=time()\n",
    "history = model.fit(pre_train_x,pre_train_y,epochs=5,batch_size=64 , validation_data=(val_x,val_y),callbacks=[My_Callback()])\n",
    "print('Training took {} seconds'.format(time()-start_time))"
   ]
  },
  {
   "cell_type": "markdown",
   "metadata": {},
   "source": [
    "# predict new data from trained model"
   ]
  },
  {
   "cell_type": "code",
   "execution_count": 18,
   "metadata": {},
   "outputs": [],
   "source": [
    "predict = model.predict(test_x)"
   ]
  },
  {
   "cell_type": "markdown",
   "metadata": {},
   "source": [
    "# predict prcent"
   ]
  },
  {
   "cell_type": "code",
   "execution_count": 19,
   "metadata": {},
   "outputs": [
    {
     "name": "stdout",
     "output_type": "stream",
     "text": [
      "predict = 98.8%\n"
     ]
    }
   ],
   "source": [
    "count = 0\n",
    "for i in range(len(predict)):\n",
    "    if np.argmax(predict[i]) == np.argmax(test_y[i]):\n",
    "        count += 1\n",
    "print('predict = '+str(round((count*100)/len(predict),3))+'%')"
   ]
  },
  {
   "cell_type": "markdown",
   "metadata": {},
   "source": [
    "# random of value"
   ]
  },
  {
   "cell_type": "code",
   "execution_count": 87,
   "metadata": {},
   "outputs": [
    {
     "name": "stdout",
     "output_type": "stream",
     "text": [
      "predicted value = 6\n"
     ]
    },
    {
     "data": {
      "image/png": "[encoded data removed]",
      "text/plain": [
       "<Figure size 432x288 with 1 Axes>"
      ]
     },
     "metadata": {
      "needs_background": "light"
     },
     "output_type": "display_data"
    }
   ],
   "source": [
    "randi = randint(0,len(testdata))\n",
    "plt.imshow(testdata[randi],cmap='binary')\n",
    "print('predicted value = '+str(np.argmax(predict[randi])))"
   ]
  },
  {
   "cell_type": "markdown",
   "metadata": {},
   "source": [
    "# show loss and accuracy data in chart"
   ]
  },
  {
   "cell_type": "code",
   "execution_count": 20,
   "metadata": {},
   "outputs": [],
   "source": [
    "history_dict = history.history"
   ]
  },
  {
   "cell_type": "code",
   "execution_count": 21,
   "metadata": {},
   "outputs": [
    {
     "data": {
      "image/png": "[encoded data removed]",
      "text/plain": [
       "<Figure size 432x288 with 1 Axes>"
      ]
     },
     "metadata": {
      "needs_background": "light"
     },
     "output_type": "display_data"
    }
   ],
   "source": [
    "epochs = range(1,len(history_dict['acc'])+1)\n",
    "plt.plot(epochs ,history_dict['val_loss'],'r-',label='validition loss')\n",
    "plt.plot(epochs ,history_dict['loss'],'b',label=' loss')\n",
    "plt.title('Training and validition loss')\n",
    "plt.xlabel('epochs')\n",
    "plt.ylabel('loss')\n",
    "plt.legend()\n",
    "plt.show()"
   ]
  },
  {
   "cell_type": "code",
   "execution_count": 22,
   "metadata": {},
   "outputs": [
    {
     "data": {
      "image/png": "[encoded data removed]",
      "text/plain": [
       "<Figure size 432x288 with 1 Axes>"
      ]
     },
     "metadata": {
      "needs_background": "light"
     },
     "output_type": "display_data"
    }
   ],
   "source": [
    "epochs = range(1,len(history_dict['acc'])+1)\n",
    "plt.plot(epochs ,history_dict['val_acc'],'r-',label='validition accuracy')\n",
    "plt.plot(epochs ,history_dict['acc'],'b',label=' accuracy')\n",
    "plt.title('Training and validition accuracy')\n",
    "plt.xlabel('epochs')\n",
    "plt.ylabel('loss')\n",
    "plt.legend()\n",
    "plt.show()"
   ]
  },
  {
   "cell_type": "code",
   "execution_count": null,
   "metadata": {},
   "outputs": [],
   "source": [
    "#github.com/aidinze"
   ]
  }
 ],
 "metadata": {
  "kernelspec": {
   "display_name": "py_36",
   "language": "python",
   "name": "py_36"
  },
  "language_info": {
   "codemirror_mode": {
    "name": "ipython",
    "version": 3
   },
   "file_extension": ".py",
   "mimetype": "text/x-python",
   "name": "python",
   "nbconvert_exporter": "python",
   "pygments_lexer": "ipython3",
   "version": "3.6.7"
  }
 },
 "nbformat": 4,
 "nbformat_minor": 2
}
